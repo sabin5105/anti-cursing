{
 "cells": [
  {
   "cell_type": "code",
   "execution_count": 1,
   "metadata": {
    "id": "2KkeixctF9iw"
   },
   "outputs": [],
   "source": [
    "import pandas as pd\n",
    "import requests\n",
    "import numpy as np\n",
    "\n",
    "\n",
    "def NotUnitcode(x):\n",
    "    if x[:2] != 'U+':\n",
    "        return np.nan\n",
    "    else:\n",
    "        return x\n",
    "\n",
    "\n",
    "url = 'https://unicode.org/emoji/charts/full-emoji-list.html'\n",
    "\n",
    "\n",
    "html = pd.read_html(url)\n",
    "df = html[0]\n",
    "\n",
    "col = []\n",
    "for i in range(15):\n",
    "    col.append(df.columns[i][2])\n",
    "\n",
    "\n",
    "df.columns = col\n",
    "df['Code'] = df['Code'].map(lambda x: x[:7]).copy()\n",
    "df['U_Code'] = df['Code'].apply(NotUnitcode)\n",
    "emoji = df[~df['U_Code'].isna()][['Code','Browser','CLDR Short Name']].reset_index(drop=True)\n",
    "emoji.to_csv('emoji.csv',index = False)"
   ]
  },
  {
   "cell_type": "code",
   "execution_count": 2,
   "metadata": {
    "colab": {
     "base_uri": "https://localhost:8080/",
     "height": 363
    },
    "id": "q1kScYVCGGoD",
    "outputId": "478a67d2-5e45-4698-ebb5-a36c668078ec"
   },
   "outputs": [
    {
     "data": {
      "text/html": [
       "<div>\n",
       "<style scoped>\n",
       "    .dataframe tbody tr th:only-of-type {\n",
       "        vertical-align: middle;\n",
       "    }\n",
       "\n",
       "    .dataframe tbody tr th {\n",
       "        vertical-align: top;\n",
       "    }\n",
       "\n",
       "    .dataframe thead th {\n",
       "        text-align: right;\n",
       "    }\n",
       "</style>\n",
       "<table border=\"1\" class=\"dataframe\">\n",
       "  <thead>\n",
       "    <tr style=\"text-align: right;\">\n",
       "      <th></th>\n",
       "      <th>Code</th>\n",
       "      <th>Browser</th>\n",
       "      <th>CLDR Short Name</th>\n",
       "    </tr>\n",
       "  </thead>\n",
       "  <tbody>\n",
       "    <tr>\n",
       "      <th>0</th>\n",
       "      <td>U+1F600</td>\n",
       "      <td>😀</td>\n",
       "      <td>grinning face</td>\n",
       "    </tr>\n",
       "    <tr>\n",
       "      <th>1</th>\n",
       "      <td>U+1F603</td>\n",
       "      <td>😃</td>\n",
       "      <td>grinning face with big eyes</td>\n",
       "    </tr>\n",
       "    <tr>\n",
       "      <th>2</th>\n",
       "      <td>U+1F604</td>\n",
       "      <td>😄</td>\n",
       "      <td>grinning face with smiling eyes</td>\n",
       "    </tr>\n",
       "    <tr>\n",
       "      <th>3</th>\n",
       "      <td>U+1F601</td>\n",
       "      <td>😁</td>\n",
       "      <td>beaming face with smiling eyes</td>\n",
       "    </tr>\n",
       "    <tr>\n",
       "      <th>4</th>\n",
       "      <td>U+1F606</td>\n",
       "      <td>😆</td>\n",
       "      <td>grinning squinting face</td>\n",
       "    </tr>\n",
       "    <tr>\n",
       "      <th>5</th>\n",
       "      <td>U+1F605</td>\n",
       "      <td>😅</td>\n",
       "      <td>grinning face with sweat</td>\n",
       "    </tr>\n",
       "    <tr>\n",
       "      <th>6</th>\n",
       "      <td>U+1F923</td>\n",
       "      <td>🤣</td>\n",
       "      <td>rolling on the floor laughing</td>\n",
       "    </tr>\n",
       "    <tr>\n",
       "      <th>7</th>\n",
       "      <td>U+1F602</td>\n",
       "      <td>😂</td>\n",
       "      <td>face with tears of joy</td>\n",
       "    </tr>\n",
       "    <tr>\n",
       "      <th>8</th>\n",
       "      <td>U+1F642</td>\n",
       "      <td>🙂</td>\n",
       "      <td>slightly smiling face</td>\n",
       "    </tr>\n",
       "    <tr>\n",
       "      <th>9</th>\n",
       "      <td>U+1F643</td>\n",
       "      <td>🙃</td>\n",
       "      <td>upside-down face</td>\n",
       "    </tr>\n",
       "  </tbody>\n",
       "</table>\n",
       "</div>"
      ],
      "text/plain": [
       "      Code Browser                  CLDR Short Name\n",
       "0  U+1F600       😀                    grinning face\n",
       "1  U+1F603       😃      grinning face with big eyes\n",
       "2  U+1F604       😄  grinning face with smiling eyes\n",
       "3  U+1F601       😁   beaming face with smiling eyes\n",
       "4  U+1F606       😆          grinning squinting face\n",
       "5  U+1F605       😅         grinning face with sweat\n",
       "6  U+1F923       🤣    rolling on the floor laughing\n",
       "7  U+1F602       😂           face with tears of joy\n",
       "8  U+1F642       🙂            slightly smiling face\n",
       "9  U+1F643       🙃                 upside-down face"
      ]
     },
     "execution_count": 2,
     "metadata": {},
     "output_type": "execute_result"
    }
   ],
   "source": [
    "df = pd.read_csv(\"emoji.csv\")\n",
    "df.head(10)"
   ]
  },
  {
   "cell_type": "code",
   "execution_count": 3,
   "metadata": {
    "colab": {
     "base_uri": "https://localhost:8080/",
     "height": 424
    },
    "id": "h637izdPh_F6",
    "outputId": "b5cda944-b8a6-47ba-c29d-3b47e3cf69a0"
   },
   "outputs": [
    {
     "data": {
      "text/html": [
       "<div>\n",
       "<style scoped>\n",
       "    .dataframe tbody tr th:only-of-type {\n",
       "        vertical-align: middle;\n",
       "    }\n",
       "\n",
       "    .dataframe tbody tr th {\n",
       "        vertical-align: top;\n",
       "    }\n",
       "\n",
       "    .dataframe thead th {\n",
       "        text-align: right;\n",
       "    }\n",
       "</style>\n",
       "<table border=\"1\" class=\"dataframe\">\n",
       "  <thead>\n",
       "    <tr style=\"text-align: right;\">\n",
       "      <th></th>\n",
       "      <th>Code</th>\n",
       "      <th>Browser</th>\n",
       "      <th>CLDR Short Name</th>\n",
       "      <th>category</th>\n",
       "    </tr>\n",
       "  </thead>\n",
       "  <tbody>\n",
       "    <tr>\n",
       "      <th>0</th>\n",
       "      <td>U+1F600</td>\n",
       "      <td>😀</td>\n",
       "      <td>grinning face</td>\n",
       "      <td>0</td>\n",
       "    </tr>\n",
       "    <tr>\n",
       "      <th>1</th>\n",
       "      <td>U+1F603</td>\n",
       "      <td>😃</td>\n",
       "      <td>grinning face with big eyes</td>\n",
       "      <td>0</td>\n",
       "    </tr>\n",
       "    <tr>\n",
       "      <th>2</th>\n",
       "      <td>U+1F604</td>\n",
       "      <td>😄</td>\n",
       "      <td>grinning face with smiling eyes</td>\n",
       "      <td>0</td>\n",
       "    </tr>\n",
       "    <tr>\n",
       "      <th>3</th>\n",
       "      <td>U+1F601</td>\n",
       "      <td>😁</td>\n",
       "      <td>beaming face with smiling eyes</td>\n",
       "      <td>0</td>\n",
       "    </tr>\n",
       "    <tr>\n",
       "      <th>4</th>\n",
       "      <td>U+1F606</td>\n",
       "      <td>😆</td>\n",
       "      <td>grinning squinting face</td>\n",
       "      <td>0</td>\n",
       "    </tr>\n",
       "    <tr>\n",
       "      <th>...</th>\n",
       "      <td>...</td>\n",
       "      <td>...</td>\n",
       "      <td>...</td>\n",
       "      <td>...</td>\n",
       "    </tr>\n",
       "    <tr>\n",
       "      <th>1848</th>\n",
       "      <td>U+1F1FF</td>\n",
       "      <td>🇿🇲</td>\n",
       "      <td>flag: Zambia</td>\n",
       "      <td>0</td>\n",
       "    </tr>\n",
       "    <tr>\n",
       "      <th>1849</th>\n",
       "      <td>U+1F1FF</td>\n",
       "      <td>🇿🇼</td>\n",
       "      <td>flag: Zimbabwe</td>\n",
       "      <td>0</td>\n",
       "    </tr>\n",
       "    <tr>\n",
       "      <th>1850</th>\n",
       "      <td>U+1F3F4</td>\n",
       "      <td>🏴󠁧󠁢󠁥󠁮󠁧󠁿</td>\n",
       "      <td>flag: England</td>\n",
       "      <td>0</td>\n",
       "    </tr>\n",
       "    <tr>\n",
       "      <th>1851</th>\n",
       "      <td>U+1F3F4</td>\n",
       "      <td>🏴󠁧󠁢󠁳󠁣󠁴󠁿</td>\n",
       "      <td>flag: Scotland</td>\n",
       "      <td>0</td>\n",
       "    </tr>\n",
       "    <tr>\n",
       "      <th>1852</th>\n",
       "      <td>U+1F3F4</td>\n",
       "      <td>🏴󠁧󠁢󠁷󠁬󠁳󠁿</td>\n",
       "      <td>flag: Wales</td>\n",
       "      <td>0</td>\n",
       "    </tr>\n",
       "  </tbody>\n",
       "</table>\n",
       "<p>1853 rows × 4 columns</p>\n",
       "</div>"
      ],
      "text/plain": [
       "         Code  Browser                  CLDR Short Name  category\n",
       "0     U+1F600        😀                    grinning face         0\n",
       "1     U+1F603        😃      grinning face with big eyes         0\n",
       "2     U+1F604        😄  grinning face with smiling eyes         0\n",
       "3     U+1F601        😁   beaming face with smiling eyes         0\n",
       "4     U+1F606        😆          grinning squinting face         0\n",
       "...       ...      ...                              ...       ...\n",
       "1848  U+1F1FF       🇿🇲                     flag: Zambia         0\n",
       "1849  U+1F1FF       🇿🇼                   flag: Zimbabwe         0\n",
       "1850  U+1F3F4  🏴󠁧󠁢󠁥󠁮󠁧󠁿                    flag: England         0\n",
       "1851  U+1F3F4  🏴󠁧󠁢󠁳󠁣󠁴󠁿                   flag: Scotland         0\n",
       "1852  U+1F3F4  🏴󠁧󠁢󠁷󠁬󠁳󠁿                      flag: Wales         0\n",
       "\n",
       "[1853 rows x 4 columns]"
      ]
     },
     "execution_count": 3,
     "metadata": {},
     "output_type": "execute_result"
    }
   ],
   "source": [
    "df[\"category\"] = 0\n",
    "df"
   ]
  },
  {
   "cell_type": "code",
   "execution_count": 4,
   "metadata": {
    "id": "N75HMFjAFtCd"
   },
   "outputs": [],
   "source": [
    "#가족\n",
    "for i in range(493,519):\n",
    "    df.loc[i, 'category'] = '여성/가족'\n"
   ]
  },
  {
   "cell_type": "code",
   "execution_count": 5,
   "metadata": {
    "id": "idpU7jX_4o3C"
   },
   "outputs": [],
   "source": [
    "#여성\n",
    "df.loc[237, 'category'] = '여성/가족'\n",
    "df.loc[238, 'category'] = '여성/가족'\n",
    "df.loc[240, 'category'] = '여성/가족'\n",
    "df.loc[242, 'category'] = '여성/가족'\n",
    "df.loc[246, 'category'] = '여성/가족'\n",
    "df.loc[250, 'category'] = '여성/가족'\n",
    "df.loc[253, 'category'] = '여성/가족'\n",
    "df.loc[256, 'category'] = '여성/가족'\n",
    "df.loc[259, 'category'] = '여성/가족'\n",
    "df.loc[262, 'category'] = '여성/가족'\n",
    "df.loc[265, 'category'] = '여성/가족'\n",
    "df.loc[268, 'category'] = '여성/가족'\n",
    "df.loc[277, 'category'] = '여성/가족'\n",
    "df.loc[280, 'category'] = '여성/가족'\n",
    "df.loc[356, 'category'] = '여성/가족'\n",
    "df.loc[387, 'category'] = '여성/가족'\n",
    "df.loc[400, 'category'] = '여성/가족'"
   ]
  },
  {
   "cell_type": "code",
   "execution_count": 6,
   "metadata": {
    "id": "DAGX2KMkivRu"
   },
   "outputs": [],
   "source": [
    "#남성\n",
    "df.loc[229, 'category'] = '남성'\n",
    "df.loc[231, 'category'] = '남성'\n",
    "df.loc[233, 'category'] = '남성'\n",
    "df.loc[234, 'category'] = '남성'\n",
    "df.loc[235, 'category'] = '남성'\n",
    "df.loc[236, 'category'] = '남성'\n",
    "df.loc[247, 'category'] = '남성'\n",
    "df.loc[249, 'category'] = '남성'\n",
    "df.loc[252, 'category'] = '남성'\n",
    "df.loc[255, 'category'] = '남성'\n",
    "df.loc[258, 'category'] = '남성'\n",
    "df.loc[261, 'category'] = '남성'\n",
    "df.loc[264, 'category'] = '남성'\n",
    "df.loc[267, 'category'] = '남성'\n",
    "df.loc[276, 'category'] = '남성'\n",
    "df.loc[279, 'category'] = '남성'\n",
    "df.loc[346, 'category'] = '남성'\n"
   ]
  },
  {
   "cell_type": "code",
   "execution_count": 7,
   "metadata": {
    "id": "twOT4vhGGQSN"
   },
   "outputs": [],
   "source": [
    "#성소수자\n",
    "df.loc[488, 'category'] = '성소수자'\n",
    "df.loc[489, 'category'] = '성소수자'\n",
    "df.loc[492, 'category'] = '성소수자'\n",
    "df.loc[493, 'category'] = '성소수자'\n",
    "df.loc[500, 'category'] = '성소수자'\n",
    "df.loc[502, 'category'] = '성소수자'\n",
    "df.loc[503, 'category'] = '성소수자'\n",
    "df.loc[505, 'category'] = '성소수자'\n",
    "df.loc[506, 'category'] = '성소수자'\n",
    "df.loc[507, 'category'] = '성소수자'\n",
    "df.loc[508, 'category'] = '성소수자'"
   ]
  },
  {
   "cell_type": "code",
   "execution_count": 8,
   "metadata": {
    "id": "JcOFueiuFsaH"
   },
   "outputs": [],
   "source": [
    "#인종\n",
    "df.loc[108, 'category'] = '인종/국적'\n",
    "df.loc[109, 'category'] = '인종/국적'\n",
    "df.loc[110, 'category'] = '인종/국적'\n",
    "df.loc[112, 'category'] = '인종/국적'\n",
    "df.loc[114, 'category'] = '인종/국적'\n"
   ]
  },
  {
   "cell_type": "code",
   "execution_count": 9,
   "metadata": {
    "id": "MowdDQ9KGfcO"
   },
   "outputs": [],
   "source": [
    "# #국적\n",
    "# for i in range(1692,1712):\n",
    "#     df.loc[i, 'category'] = '국적'"
   ]
  },
  {
   "cell_type": "code",
   "execution_count": 10,
   "metadata": {
    "id": "WuhWcn8xGjWY"
   },
   "outputs": [],
   "source": [
    "#연령\n",
    "df.loc[223, 'category'] = '연령'\n",
    "df.loc[224, 'category'] = '연령'\n",
    "df.loc[225, 'category'] = '연령'\n",
    "df.loc[226, 'category'] = '연령'\n",
    "df.loc[235, 'category'] = '연령'\n",
    "df.loc[248, 'category'] = '연령'\n",
    "df.loc[249, 'category'] = '연령'\n",
    "df.loc[250, 'category'] = '연령'\n"
   ]
  },
  {
   "cell_type": "code",
   "execution_count": 11,
   "metadata": {
    "id": "oK2yX7upGp_c"
   },
   "outputs": [],
   "source": [
    "#지역\n",
    "df.loc[827, 'category'] = '지역'\n",
    "df.loc[828, 'category'] = '지역'\n",
    "df.loc[829, 'category'] = '지역'\n",
    "df.loc[830, 'category'] = '지역'\n",
    "df.loc[831, 'category'] = '지역'\n",
    "df.loc[805, 'category'] = '지역'\n",
    "df.loc[806, 'category'] = '지역'\n",
    "df.loc[808, 'category'] = '지역'\n",
    "df.loc[809, 'category'] = '지역'"
   ]
  },
  {
   "cell_type": "code",
   "execution_count": 12,
   "metadata": {
    "id": "IztIOpcBT0Mt"
   },
   "outputs": [],
   "source": [
    "#종교\n",
    "for i in range(1410,1422):\n",
    "    df.loc[i, 'category'] = '종교'"
   ]
  },
  {
   "cell_type": "code",
   "execution_count": 13,
   "metadata": {
    "id": "LIoQ2iQaUW7g"
   },
   "outputs": [],
   "source": [
    "#기타혐오\n",
    "df.loc[1379, 'category'] = '기타 혐오'\n",
    "df.loc[1380, 'category'] = '기타 혐오'\n",
    "df.loc[1385, 'category'] = '기타 혐오'\n",
    "df.loc[1377, 'category'] = '기타 혐오'"
   ]
  },
  {
   "cell_type": "code",
   "execution_count": 14,
   "metadata": {
    "id": "oyfjcoE1Ah9o"
   },
   "outputs": [],
   "source": [
    "#악플\n",
    "df.loc[1193, 'category'] = '악플/욕설'\n",
    "df.loc[1191, 'category'] = '악플/욕설'"
   ]
  },
  {
   "cell_type": "code",
   "execution_count": 15,
   "metadata": {
    "id": "b4IiCcRqAqxQ"
   },
   "outputs": [],
   "source": [
    "#욕설\n",
    "df.loc[102, 'category'] = '악플/욕설'\n",
    "df.loc[100, 'category'] = '악플/욕설'"
   ]
  },
  {
   "cell_type": "code",
   "execution_count": 16,
   "metadata": {
    "id": "yGgMHxEpBZhH"
   },
   "outputs": [],
   "source": [
    "#개인지칭\n",
    "df.loc[182, 'category'] = '개인지칭'\n",
    "df.loc[183, 'category'] = '개인지칭'"
   ]
  },
  {
   "cell_type": "code",
   "execution_count": 17,
   "metadata": {
    "colab": {
     "base_uri": "https://localhost:8080/",
     "height": 424
    },
    "id": "IKmwNBm3B6ET",
    "outputId": "5ba05f59-6e21-4e0d-9df7-208b138e3aeb"
   },
   "outputs": [
    {
     "data": {
      "text/html": [
       "<div>\n",
       "<style scoped>\n",
       "    .dataframe tbody tr th:only-of-type {\n",
       "        vertical-align: middle;\n",
       "    }\n",
       "\n",
       "    .dataframe tbody tr th {\n",
       "        vertical-align: top;\n",
       "    }\n",
       "\n",
       "    .dataframe thead th {\n",
       "        text-align: right;\n",
       "    }\n",
       "</style>\n",
       "<table border=\"1\" class=\"dataframe\">\n",
       "  <thead>\n",
       "    <tr style=\"text-align: right;\">\n",
       "      <th></th>\n",
       "      <th>Code</th>\n",
       "      <th>Browser</th>\n",
       "      <th>CLDR Short Name</th>\n",
       "      <th>category</th>\n",
       "    </tr>\n",
       "  </thead>\n",
       "  <tbody>\n",
       "    <tr>\n",
       "      <th>100</th>\n",
       "      <td>U+1F620</td>\n",
       "      <td>😠</td>\n",
       "      <td>angry face</td>\n",
       "      <td>악플/욕설</td>\n",
       "    </tr>\n",
       "    <tr>\n",
       "      <th>102</th>\n",
       "      <td>U+1F608</td>\n",
       "      <td>😈</td>\n",
       "      <td>smiling face with horns</td>\n",
       "      <td>악플/욕설</td>\n",
       "    </tr>\n",
       "    <tr>\n",
       "      <th>108</th>\n",
       "      <td>U+1F479</td>\n",
       "      <td>👹</td>\n",
       "      <td>ogre</td>\n",
       "      <td>인종/국적</td>\n",
       "    </tr>\n",
       "    <tr>\n",
       "      <th>109</th>\n",
       "      <td>U+1F47A</td>\n",
       "      <td>👺</td>\n",
       "      <td>goblin</td>\n",
       "      <td>인종/국적</td>\n",
       "    </tr>\n",
       "    <tr>\n",
       "      <th>110</th>\n",
       "      <td>U+1F47B</td>\n",
       "      <td>👻</td>\n",
       "      <td>ghost</td>\n",
       "      <td>인종/국적</td>\n",
       "    </tr>\n",
       "    <tr>\n",
       "      <th>...</th>\n",
       "      <td>...</td>\n",
       "      <td>...</td>\n",
       "      <td>...</td>\n",
       "      <td>...</td>\n",
       "    </tr>\n",
       "    <tr>\n",
       "      <th>1417</th>\n",
       "      <td>U+2626</td>\n",
       "      <td>☦</td>\n",
       "      <td>orthodox cross</td>\n",
       "      <td>종교</td>\n",
       "    </tr>\n",
       "    <tr>\n",
       "      <th>1418</th>\n",
       "      <td>U+262A</td>\n",
       "      <td>☪</td>\n",
       "      <td>star and crescent</td>\n",
       "      <td>종교</td>\n",
       "    </tr>\n",
       "    <tr>\n",
       "      <th>1419</th>\n",
       "      <td>U+262E</td>\n",
       "      <td>☮</td>\n",
       "      <td>peace symbol</td>\n",
       "      <td>종교</td>\n",
       "    </tr>\n",
       "    <tr>\n",
       "      <th>1420</th>\n",
       "      <td>U+1F54E</td>\n",
       "      <td>🕎</td>\n",
       "      <td>menorah</td>\n",
       "      <td>종교</td>\n",
       "    </tr>\n",
       "    <tr>\n",
       "      <th>1421</th>\n",
       "      <td>U+1F52F</td>\n",
       "      <td>🔯</td>\n",
       "      <td>dotted six-pointed star</td>\n",
       "      <td>종교</td>\n",
       "    </tr>\n",
       "  </tbody>\n",
       "</table>\n",
       "<p>104 rows × 4 columns</p>\n",
       "</div>"
      ],
      "text/plain": [
       "         Code Browser          CLDR Short Name category\n",
       "100   U+1F620       😠               angry face    악플/욕설\n",
       "102   U+1F608       😈  smiling face with horns    악플/욕설\n",
       "108   U+1F479       👹                     ogre    인종/국적\n",
       "109   U+1F47A       👺                   goblin    인종/국적\n",
       "110   U+1F47B       👻                    ghost    인종/국적\n",
       "...       ...     ...                      ...      ...\n",
       "1417   U+2626       ☦           orthodox cross       종교\n",
       "1418   U+262A       ☪        star and crescent       종교\n",
       "1419   U+262E       ☮             peace symbol       종교\n",
       "1420  U+1F54E       🕎                  menorah       종교\n",
       "1421  U+1F52F       🔯  dotted six-pointed star       종교\n",
       "\n",
       "[104 rows x 4 columns]"
      ]
     },
     "execution_count": 17,
     "metadata": {},
     "output_type": "execute_result"
    }
   ],
   "source": [
    "unness = df[df[\"category\"] == 0].index\n",
    "df.drop(unness)\n"
   ]
  },
  {
   "cell_type": "code",
   "execution_count": 18,
   "metadata": {},
   "outputs": [],
   "source": [
    "df.to_csv(\"emoji_category.csv\",index=False)"
   ]
  },
  {
   "cell_type": "code",
   "execution_count": 19,
   "metadata": {},
   "outputs": [
    {
     "data": {
      "text/html": [
       "<div>\n",
       "<style scoped>\n",
       "    .dataframe tbody tr th:only-of-type {\n",
       "        vertical-align: middle;\n",
       "    }\n",
       "\n",
       "    .dataframe tbody tr th {\n",
       "        vertical-align: top;\n",
       "    }\n",
       "\n",
       "    .dataframe thead th {\n",
       "        text-align: right;\n",
       "    }\n",
       "</style>\n",
       "<table border=\"1\" class=\"dataframe\">\n",
       "  <thead>\n",
       "    <tr style=\"text-align: right;\">\n",
       "      <th></th>\n",
       "      <th>Code</th>\n",
       "      <th>Browser</th>\n",
       "      <th>CLDR Short Name</th>\n",
       "      <th>category</th>\n",
       "    </tr>\n",
       "  </thead>\n",
       "  <tbody>\n",
       "    <tr>\n",
       "      <th>0</th>\n",
       "      <td>U+1F600</td>\n",
       "      <td>😀</td>\n",
       "      <td>grinning face</td>\n",
       "      <td>0</td>\n",
       "    </tr>\n",
       "    <tr>\n",
       "      <th>1</th>\n",
       "      <td>U+1F603</td>\n",
       "      <td>😃</td>\n",
       "      <td>grinning face with big eyes</td>\n",
       "      <td>0</td>\n",
       "    </tr>\n",
       "    <tr>\n",
       "      <th>2</th>\n",
       "      <td>U+1F604</td>\n",
       "      <td>😄</td>\n",
       "      <td>grinning face with smiling eyes</td>\n",
       "      <td>0</td>\n",
       "    </tr>\n",
       "    <tr>\n",
       "      <th>3</th>\n",
       "      <td>U+1F601</td>\n",
       "      <td>😁</td>\n",
       "      <td>beaming face with smiling eyes</td>\n",
       "      <td>0</td>\n",
       "    </tr>\n",
       "    <tr>\n",
       "      <th>4</th>\n",
       "      <td>U+1F606</td>\n",
       "      <td>😆</td>\n",
       "      <td>grinning squinting face</td>\n",
       "      <td>0</td>\n",
       "    </tr>\n",
       "    <tr>\n",
       "      <th>...</th>\n",
       "      <td>...</td>\n",
       "      <td>...</td>\n",
       "      <td>...</td>\n",
       "      <td>...</td>\n",
       "    </tr>\n",
       "    <tr>\n",
       "      <th>1848</th>\n",
       "      <td>U+1F1FF</td>\n",
       "      <td>🇿🇲</td>\n",
       "      <td>flag: Zambia</td>\n",
       "      <td>0</td>\n",
       "    </tr>\n",
       "    <tr>\n",
       "      <th>1849</th>\n",
       "      <td>U+1F1FF</td>\n",
       "      <td>🇿🇼</td>\n",
       "      <td>flag: Zimbabwe</td>\n",
       "      <td>0</td>\n",
       "    </tr>\n",
       "    <tr>\n",
       "      <th>1850</th>\n",
       "      <td>U+1F3F4</td>\n",
       "      <td>🏴󠁧󠁢󠁥󠁮󠁧󠁿</td>\n",
       "      <td>flag: England</td>\n",
       "      <td>0</td>\n",
       "    </tr>\n",
       "    <tr>\n",
       "      <th>1851</th>\n",
       "      <td>U+1F3F4</td>\n",
       "      <td>🏴󠁧󠁢󠁳󠁣󠁴󠁿</td>\n",
       "      <td>flag: Scotland</td>\n",
       "      <td>0</td>\n",
       "    </tr>\n",
       "    <tr>\n",
       "      <th>1852</th>\n",
       "      <td>U+1F3F4</td>\n",
       "      <td>🏴󠁧󠁢󠁷󠁬󠁳󠁿</td>\n",
       "      <td>flag: Wales</td>\n",
       "      <td>0</td>\n",
       "    </tr>\n",
       "  </tbody>\n",
       "</table>\n",
       "<p>1853 rows × 4 columns</p>\n",
       "</div>"
      ],
      "text/plain": [
       "         Code  Browser                  CLDR Short Name category\n",
       "0     U+1F600        😀                    grinning face        0\n",
       "1     U+1F603        😃      grinning face with big eyes        0\n",
       "2     U+1F604        😄  grinning face with smiling eyes        0\n",
       "3     U+1F601        😁   beaming face with smiling eyes        0\n",
       "4     U+1F606        😆          grinning squinting face        0\n",
       "...       ...      ...                              ...      ...\n",
       "1848  U+1F1FF       🇿🇲                     flag: Zambia        0\n",
       "1849  U+1F1FF       🇿🇼                   flag: Zimbabwe        0\n",
       "1850  U+1F3F4  🏴󠁧󠁢󠁥󠁮󠁧󠁿                    flag: England        0\n",
       "1851  U+1F3F4  🏴󠁧󠁢󠁳󠁣󠁴󠁿                   flag: Scotland        0\n",
       "1852  U+1F3F4  🏴󠁧󠁢󠁷󠁬󠁳󠁿                      flag: Wales        0\n",
       "\n",
       "[1853 rows x 4 columns]"
      ]
     },
     "execution_count": 19,
     "metadata": {},
     "output_type": "execute_result"
    }
   ],
   "source": [
    "pd.read_csv(\"emoji_category.csv\")"
   ]
  }
 ],
 "metadata": {
  "colab": {
   "name": "emoji_classification.ipynb",
   "provenance": []
  },
  "kernelspec": {
   "display_name": "Python 3.7.13 ('ML')",
   "language": "python",
   "name": "python3"
  },
  "language_info": {
   "codemirror_mode": {
    "name": "ipython",
    "version": 3
   },
   "file_extension": ".py",
   "mimetype": "text/x-python",
   "name": "python",
   "nbconvert_exporter": "python",
   "pygments_lexer": "ipython3",
   "version": "3.7.13"
  },
  "vscode": {
   "interpreter": {
    "hash": "19d29624fa02f72a2f2eb64b5fa4dfbc751609e2b6c88be691c0db207c64cc14"
   }
  }
 },
 "nbformat": 4,
 "nbformat_minor": 1
}
